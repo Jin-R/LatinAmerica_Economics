{
 "cells": [
  {
   "cell_type": "code",
   "execution_count": 1,
   "metadata": {},
   "outputs": [],
   "source": [
    "import pandas as pd\n",
    "import numpy as np\n",
    "import matplotlib.pyplot as plt"
   ]
  },
  {
   "cell_type": "code",
   "execution_count": 2,
   "metadata": {},
   "outputs": [],
   "source": [
    "const = [383067000000, 416597439032.4396, 421992454116.21924, 410843635858.5455, 436154543908.3366, 433326110134.73065, 436467862048.20807, 451905331273.6019, 450176178316.73834, 458700802718.3613, 467629592535.99347]"
   ]
  },
  {
   "cell_type": "code",
   "execution_count": 3,
   "metadata": {},
   "outputs": [],
   "source": [
    "real = [515000000000, 509089485803.7906, 510630168211.01953, 523370162585.6066, 539873948816.1226, 549695717367.145, 549768766150.781, 546744606028.6235, 549706049868.9211, 561149474043.6443, 575130604630.486]"
   ]
  },
  {
   "cell_type": "code",
   "execution_count": 10,
   "metadata": {},
   "outputs": [],
   "source": [
    "def Increase(val):\n",
    "    rate = []\n",
    "    \n",
    "    for i in range(1, len(val)):\n",
    "        cal = ((val[i] / val[i-1]) - 1) * 100\n",
    "        rate.append(round(cal, 2))\n",
    "        \n",
    "    return rate"
   ]
  },
  {
   "cell_type": "code",
   "execution_count": 14,
   "metadata": {},
   "outputs": [
    {
     "data": {
      "text/plain": [
       "[8.75, 1.3, -2.64, 6.16, -0.65, 0.73, 3.54, -0.38, 1.89, 1.95]"
      ]
     },
     "execution_count": 14,
     "metadata": {},
     "output_type": "execute_result"
    }
   ],
   "source": [
    "const_inc = Increase(const)\n",
    "const_inc"
   ]
  },
  {
   "cell_type": "code",
   "execution_count": 15,
   "metadata": {},
   "outputs": [
    {
     "data": {
      "text/plain": [
       "[-1.15, 0.3, 2.49, 3.15, 1.82, 0.01, -0.55, 0.54, 2.08, 2.49]"
      ]
     },
     "execution_count": 15,
     "metadata": {},
     "output_type": "execute_result"
    }
   ],
   "source": [
    "real_inc = Increase(real)\n",
    "real_inc"
   ]
  },
  {
   "cell_type": "code",
   "execution_count": 19,
   "metadata": {},
   "outputs": [],
   "source": [
    "def Deflator(val1, val2):\n",
    "    rate = []\n",
    "    \n",
    "    for i in range(len(val1)):\n",
    "        cal = val1[i] - val2[i]\n",
    "        rate.append(round(cal, 2))\n",
    "        \n",
    "    return rate"
   ]
  },
  {
   "cell_type": "code",
   "execution_count": 20,
   "metadata": {},
   "outputs": [
    {
     "data": {
      "text/plain": [
       "[9.9, 1.0, -5.13, 3.01, -2.47, 0.72, 4.09, -0.92, -0.19, -0.54]"
      ]
     },
     "execution_count": 20,
     "metadata": {},
     "output_type": "execute_result"
    }
   ],
   "source": [
    "Deflator(const_inc, real_inc)"
   ]
  }
 ],
 "metadata": {
  "kernelspec": {
   "display_name": "Python 3",
   "language": "python",
   "name": "python3"
  },
  "language_info": {
   "codemirror_mode": {
    "name": "ipython",
    "version": 3
   },
   "file_extension": ".py",
   "mimetype": "text/x-python",
   "name": "python",
   "nbconvert_exporter": "python",
   "pygments_lexer": "ipython3",
   "version": "3.8.5"
  }
 },
 "nbformat": 4,
 "nbformat_minor": 4
}
